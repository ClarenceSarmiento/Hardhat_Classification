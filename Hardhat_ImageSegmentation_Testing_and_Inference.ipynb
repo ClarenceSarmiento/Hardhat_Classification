{
  "cells": [
    {
      "cell_type": "markdown",
      "metadata": {
        "id": "rmDxUA4VhV5Y"
      },
      "source": [
        "#Google Drive Connection\n",
        "\n",
        "\n",
        "---\n",
        "\n",
        "\n",
        "\n",
        "---\n",
        "\n"
      ]
    },
    {
      "cell_type": "code",
      "execution_count": null,
      "metadata": {
        "colab": {
          "base_uri": "https://localhost:8080/"
        },
        "id": "8o7wuUDquCg4",
        "outputId": "14422d14-ce26-4f79-c29a-7cf430d98826"
      },
      "outputs": [
        {
          "output_type": "stream",
          "name": "stdout",
          "text": [
            "Mounted at /content/drive\n"
          ]
        }
      ],
      "source": [
        "from google.colab import drive\n",
        "drive.mount('/content/drive', force_remount=True)"
      ]
    },
    {
      "cell_type": "code",
      "execution_count": null,
      "metadata": {
        "id": "pU4LGj_wwU4-",
        "colab": {
          "base_uri": "https://localhost:8080/"
        },
        "outputId": "28619c8a-133d-4ad4-f6c8-9506b01d85e8"
      },
      "outputs": [
        {
          "output_type": "stream",
          "name": "stdout",
          "text": [
            "/content/drive/MyDrive/HardhatFiles (Testing_Inference)\n"
          ]
        }
      ],
      "source": [
        "cd /content/drive/MyDrive/HardhatFiles (Testing_Inference)"
      ]
    },
    {
      "cell_type": "markdown",
      "metadata": {
        "id": "DDiNM-bzh18C"
      },
      "source": [
        "#Install Dependencies\n",
        "\n",
        "\n",
        "---\n",
        "\n",
        "\n",
        "\n",
        "---\n",
        "\n"
      ]
    },
    {
      "cell_type": "code",
      "execution_count": null,
      "metadata": {
        "id": "w_mYO-33tNpa"
      },
      "outputs": [],
      "source": [
        "!pip3 install tensorflow==2.5\n",
        "!pip3 install tensorflow--gpu==2.5\n",
        "!pip3 install imgaug==0.2.9\n",
        "!pip install pixellib==0.5.2\n",
        "!pip install labelme2coco==0.1.0\n",
        "!pip install Pillow==8.2"
      ]
    },
    {
      "cell_type": "code",
      "source": [
        "cd /content/drive/MyDrive/HardhatFiles (Testing_Inference)"
      ],
      "metadata": {
        "colab": {
          "base_uri": "https://localhost:8080/"
        },
        "id": "6L4W-5FqCJ31",
        "outputId": "733e7987-5d24-4e1b-a293-2dd0eb9c792e"
      },
      "execution_count": null,
      "outputs": [
        {
          "output_type": "stream",
          "name": "stdout",
          "text": [
            "/content/drive/MyDrive/HardhatFiles (Testing_Inference)\n"
          ]
        }
      ]
    },
    {
      "cell_type": "markdown",
      "metadata": {
        "id": "2352mDQlaZQQ"
      },
      "source": [
        "#Inference Custom Model"
      ]
    },
    {
      "cell_type": "markdown",
      "source": [
        "## Batch Segmentation of Images"
      ],
      "metadata": {
        "id": "aHJwS0rd_enw"
      }
    },
    {
      "cell_type": "code",
      "execution_count": null,
      "metadata": {
        "id": "SUcukSNBZw--"
      },
      "outputs": [],
      "source": [
        "import os\n",
        "import pixellib\n",
        "from pixellib.instance import custom_segmentation\n",
        "\n",
        "test_Images = \"/content/drive/MyDrive/HardhatFiles (Testing_Inference)/test\"\n",
        "detected_Images = \"/content/drive/MyDrive/HardhatFiles (Testing_Inference)/output/\"\n",
        "model = \"/content/drive/MyDrive/HardhatFiles (Testing_Inference)/mask_rcnn_model.029-0.312055.h5\"\n",
        "\n",
        "segment_image = custom_segmentation()\n",
        "segment_image.inferConfig(num_classes= 2, class_names= [\"BG\", \"with white hard hat\", \"with yellow hard hat\"])\n",
        "segment_image.load_model(model)\n",
        "for filename in os.listdir(test_Images):\n",
        "  if filename.endswith(\"jpg\"): \n",
        "    segment_image.segmentImage(test_Images+\"/\"+filename, show_bboxes=True, output_image_name=detected_Images+filename)\n",
        "    print(filename, \" | done....\")"
      ]
    },
    {
      "cell_type": "markdown",
      "source": [
        "## Video Segmentation with a Custom Model"
      ],
      "metadata": {
        "id": "YhT0N60F_1Oc"
      }
    },
    {
      "cell_type": "code",
      "source": [
        "import os\n",
        "import pixellib\n",
        "from pixellib.instance import custom_segmentation\n",
        "\n",
        "test_Video = \"/content/drive/MyDrive/HardhatFiles (Testing_Inference)/test\"\n",
        "detected_Video = \"/content/drive/MyDrive/HardhatFiles (Testing_Inference)/output/\"\n",
        "model = \"/content/drive/MyDrive/HardhatFiles (Testing_Inference)/mask_rcnn_model.029-0.312055.h5\"\n",
        "\n",
        "segment_video = custom_segmentation()\n",
        "segment_video.inferConfig(num_classes=  2,  class_names= [\"BG\", \"with white hard hat\", \"with yellow hard hat\"])\n",
        "segment_video.load_model(model)\n",
        "for filename in os.listdir(test_Video):\n",
        "  if filename.endswith(\"mp4\"):\n",
        "    segment_video.process_video(test_Video+\"/\"+filename, show_bboxes = True,  output_video_name=detected_Video+filename, frames_per_second=20)\n",
        "    print(filename, \" | done....\")"
      ],
      "metadata": {
        "id": "W3H-yrgUAG0k"
      },
      "execution_count": null,
      "outputs": []
    }
  ],
  "metadata": {
    "accelerator": "GPU",
    "colab": {
      "collapsed_sections": [],
      "provenance": []
    },
    "kernelspec": {
      "display_name": "Python 3",
      "name": "python3"
    },
    "language_info": {
      "name": "python"
    },
    "gpuClass": "standard"
  },
  "nbformat": 4,
  "nbformat_minor": 0
}